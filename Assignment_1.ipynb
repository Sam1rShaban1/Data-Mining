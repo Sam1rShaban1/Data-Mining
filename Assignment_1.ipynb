{
  "nbformat": 4,
  "nbformat_minor": 0,
  "metadata": {
    "colab": {
      "provenance": [],
      "authorship_tag": "ABX9TyP+NT4drQiGme8Q6HV6Q6V1",
      "include_colab_link": true
    },
    "kernelspec": {
      "name": "python3",
      "display_name": "Python 3"
    },
    "language_info": {
      "name": "python"
    }
  },
  "cells": [
    {
      "cell_type": "markdown",
      "metadata": {
        "id": "view-in-github",
        "colab_type": "text"
      },
      "source": [
        "<a href=\"https://colab.research.google.com/github/Sam1rShaban1/Data-Mining/blob/main/Assignment_1.ipynb\" target=\"_parent\"><img src=\"https://colab.research.google.com/assets/colab-badge.svg\" alt=\"Open In Colab\"/></a>"
      ]
    },
    {
      "cell_type": "code",
      "source": [
        "from google.colab import drive\n",
        "drive.mount('/content/drive')\n",
        "\n",
        "base_path = '/content/drive/MyDrive/Data Mining - Homework/'\n",
        "dataset_path = base_path + 'dataset.txt'\n",
        "paper1_path = base_path + 'paper1.txt'\n",
        "paper2_path = base_path + 'paper2.txt'\n"
      ],
      "metadata": {
        "colab": {
          "base_uri": "https://localhost:8080/"
        },
        "id": "oRzRfownmbyQ",
        "outputId": "5b6cf979-2dd4-48fc-e4fd-43ca40c4a26d"
      },
      "execution_count": 102,
      "outputs": [
        {
          "output_type": "stream",
          "name": "stdout",
          "text": [
            "Drive already mounted at /content/drive; to attempt to forcibly remount, call drive.mount(\"/content/drive\", force_remount=True).\n"
          ]
        }
      ]
    },
    {
      "cell_type": "code",
      "execution_count": 103,
      "metadata": {
        "colab": {
          "base_uri": "https://localhost:8080/"
        },
        "id": "5jGTB8zckVkR",
        "outputId": "058ea0d1-a149-4f6c-ab6f-6d2efa07d7c5"
      },
      "outputs": [
        {
          "output_type": "stream",
          "name": "stdout",
          "text": [
            "DataFrame columns after reading: Index(['r_id', 'date', 'duration', 'name', 'price', 'qntysold'], dtype='object')\n",
            "    r_id       date  duration                                    name  price  \\\n",
            "0  15366  4/15/2003         1  HP JORNADA 560 SERIES POCKET PC COLOR     262   \n",
            "1  13062  4/15/2003         1              REFURBISHED PALM M515 N/R     256   \n",
            "2  37704  4/15/2003        87  PALM i705 + FOLDING KEYBOARD + EXTRAS     207   \n",
            "3  92546  4/15/2003        56      Royal DaVinci DV3 PDA 2mb w/ case     332   \n",
            "4  33179  4/15/2003        53      PALM V ~ Keyboard and Accessories     301   \n",
            "\n",
            "   qntysold  \n",
            "0         2  \n",
            "1         7  \n",
            "2         8  \n",
            "3        12  \n",
            "4        13  \n",
            "DataFrame dtypes after conversion:\n",
            " r_id         int64\n",
            "date        object\n",
            "duration     int64\n",
            "name        object\n",
            "price        int64\n",
            "qntysold     int64\n",
            "dtype: object\n"
          ]
        }
      ],
      "source": [
        "import pandas as pd\n",
        "import numpy as np\n",
        "import matplotlib.pyplot as plt\n",
        "\n",
        "import math\n",
        "\n",
        "try:\n",
        "    df = pd.read_csv(dataset_path, sep='\\t', encoding='latin-1')\n",
        "    df.columns = ['r_id', 'date', 'duration', 'name', 'price', 'qntysold']\n",
        "\n",
        "    # Verify column names and check the first few rows\n",
        "    print(\"DataFrame columns after reading:\", df.columns)\n",
        "    print(df.head())\n",
        "\n",
        "    # Convert 'price' and 'qntysold' columns to numeric\n",
        "    df['price'] = pd.to_numeric(df['price'], errors='coerce')\n",
        "    df['qntysold'] = pd.to_numeric(df['qntysold'], errors='coerce')\n",
        "\n",
        "    # Print out the data types of the price and quantity\n",
        "    print(\"DataFrame dtypes after conversion:\\n\", df.dtypes)\n",
        "\n",
        "    # Drop rows with NaN values in 'price' or 'qntysold' columns\n",
        "    df.dropna(subset=['price', 'qntysold'], inplace=True)\n",
        "except FileNotFoundError as e:\n",
        "    print(f\"File not found: {e}\")\n",
        "except Exception as e:\n",
        "    print(f\"An error occurred: {e}\")"
      ]
    },
    {
      "cell_type": "code",
      "source": [
        "# 1a. Bestselling item\n",
        "if not df['qntysold'].isnull().all():\n",
        "    best_item = df.loc[df['qntysold'].idxmax()]\n",
        "    print(\"Bestselling item:\", best_item['name'], \"- Sold:\", best_item['qntysold'])\n",
        "else:\n",
        "    print(\"The 'qntysold' column contains no valid data.\")\n",
        "\n",
        "# 1b. Worst selling item\n",
        "if not df['qntysold'].isnull().all():\n",
        "    worst_item = df.loc[df['qntysold'].idxmin()]\n",
        "    print(\"Worst selling item:\", worst_item['name'], \"- Sold:\", worst_item['qntysold'])\n",
        "else:\n",
        "    print(\"The 'qntysold' column contains no valid data.\")\n",
        "\n",
        "# 1c. Mean and Standard Deviation of Price\n",
        "mean_price = df['price'].mean()\n",
        "std_price = df['price'].std()\n",
        "print(\"Mean Price:\", mean_price)\n",
        "print(\"Standard Deviation of Price:\", std_price)\n",
        "\n",
        "# 1d. Min-Max Normalization\n",
        "min_price = df['price'].min()\n",
        "max_price = df['price'].max()\n",
        "df['Price_MinMax'] = 10 + (df['price'] - min_price) * (10 / (max_price - min_price))\n",
        "\n",
        "# 1e. Z-score Normalization\n",
        "df['Price_ZScore'] = (df['price'] - mean_price) / std_price\n",
        "\n",
        "# 1f. Decimal Scaling\n",
        "j = math.ceil(math.log10(df['price'].abs().max()))\n",
        "df['Price_DecimalScaling'] = df['price'] / (10 ** j)\n",
        "# 1g. M (Median), Q1, Q3 for qntysold\n",
        "M = df['qntysold'].median()\n",
        "Q1 = df['qntysold'].quantile(0.25)\n",
        "Q3 = df['qntysold'].quantile(0.75)\n",
        "\n",
        "print(\"Quantity sold - Median (M):\", M)\n",
        "print(\"Q1 (25th percentile):\", Q1)\n",
        "print(\"Q3 (75th percentile):\", Q3)"
      ],
      "metadata": {
        "colab": {
          "base_uri": "https://localhost:8080/"
        },
        "id": "LioA7h8im0VD",
        "outputId": "d4c92491-9d92-4338-d847-924b6dd08254"
      },
      "execution_count": 104,
      "outputs": [
        {
          "output_type": "stream",
          "name": "stdout",
          "text": [
            "Bestselling item: CASIO BE 300 16 MB COLOR PDA 160MB CF MINT!!  - Sold: 15\n",
            "Worst selling item: Palm M500 w/ 24MB, USB Cradle Leather Holster  - Sold: 0\n",
            "Mean Price: 226.67033333333333\n",
            "Standard Deviation of Price: 72.5374906449893\n",
            "Quantity sold - Median (M): 8.0\n",
            "Q1 (25th percentile): 4.0\n",
            "Q3 (75th percentile): 12.0\n"
          ]
        }
      ]
    },
    {
      "cell_type": "code",
      "source": [
        "min_val = df[\"qntysold\"].min()\n",
        "max_val = df[\"qntysold\"].max()\n",
        "\n",
        "# Create the boxplot\n",
        "plt.figure(figsize=(14, 8))\n",
        "plt.boxplot([min_val, Q1, M, Q3, max_val], showfliers=False, tick_labels=['qntysold'])\n",
        "plt.title('Boxplot of Quantity Sold')\n",
        "plt.ylabel('Quantity Sold')\n",
        "plt.grid(True)\n",
        "plt.show()"
      ],
      "metadata": {
        "colab": {
          "base_uri": "https://localhost:8080/",
          "height": 699
        },
        "id": "urYvgBQuu6js",
        "outputId": "305a0b14-968e-49a7-f44b-d6d19be93262"
      },
      "execution_count": 114,
      "outputs": [
        {
          "output_type": "display_data",
          "data": {
            "text/plain": [
              "<Figure size 1400x800 with 1 Axes>"
            ],
            "image/png": "[encoded data removed]"
          },
          "metadata": {}
        }
      ]
    },
    {
      "cell_type": "markdown",
      "source": [
        "Jaccard & Cosine Similarity"
      ],
      "metadata": {
        "id": "SyG03GmMp7nN"
      }
    },
    {
      "cell_type": "code",
      "source": [
        "def read_words(path):\n",
        "    with open(path, 'r') as f:\n",
        "        file_contents = f.read()\n",
        "        lowercase_contents = file_contents.lower()\n",
        "        words = lowercase_contents.split()\n",
        "        return words\n",
        "\n",
        "words1 = read_words(paper1_path)\n",
        "words2 = read_words(paper2_path)\n",
        "\n",
        "set1 = set(words1)\n",
        "set2 = set(words2)\n",
        "\n",
        "intersection = set1 & set2\n",
        "union = set1 | set2\n",
        "jaccard_score = len(intersection) / len(union)\n",
        "print(\"Jaccard Coefficient:\", jaccard_score)\n",
        "\n",
        "vocab = list(set(words1 + words2))\n",
        "vec1 = [words1.count(word) for word in vocab]\n",
        "vec2 = [words2.count(word) for word in vocab]\n",
        "\n",
        "dot_product = sum([vec1[i] * vec2[i] for i in range(len(vocab))])\n",
        "magnitude1 = math.sqrt(sum([val**2 for val in vec1]))\n",
        "magnitude2 = math.sqrt(sum([val**2 for val in vec2]))\n",
        "\n",
        "if magnitude1 == 0 or magnitude2 == 0:\n",
        "    cosine_similarity = 0\n",
        "else:\n",
        "    cosine_similarity = dot_product / (magnitude1 * magnitude2)\n",
        "print(\"Cosine Similarity:\", cosine_similarity)"
      ],
      "metadata": {
        "colab": {
          "base_uri": "https://localhost:8080/"
        },
        "id": "KxjSyCKMp8l8",
        "outputId": "361f3f10-4334-4b77-c82a-fdaff53d1f14"
      },
      "execution_count": 110,
      "outputs": [
        {
          "output_type": "stream",
          "name": "stdout",
          "text": [
            "Jaccard Coefficient: 0.8864628820960698\n",
            "Cosine Similarity: 0.8522845800149151\n"
          ]
        }
      ]
    }
  ]
}